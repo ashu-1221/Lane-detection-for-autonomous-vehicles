{
 "cells": [
  {
   "cell_type": "code",
   "execution_count": null,
   "id": "de96cc9f",
   "metadata": {},
   "outputs": [],
   "source": [
    "import numpy as np\n",
    "import os\n",
    "from PIL import Image"
   ]
  },
  {
   "cell_type": "code",
   "execution_count": null,
   "id": "7044c9d7",
   "metadata": {},
   "outputs": [],
   "source": [
    "dir_path = 'D:\\Lane detection\\Output result'\n",
    "\n",
    "\n",
    "images = []\n",
    "\n",
    "\n",
    "for file_name in os.listdir(dir_path):\n",
    "  \n",
    "    image = Image.open(os.path.join(dir_path, file_name))\n",
    "  \n",
    "    image = image.convert('L')\n",
    " \n",
    "    image = image.resize((28, 28))\n",
    " \n",
    "    image = np.asarray(image)\n",
    "   \n",
    "    image = image.astype('float32') / 255.\n",
    "  \n",
    "    images.append(image)\n",
    "\n",
    "\n",
    "images = np.array(images)\n",
    "\n",
    "images = images.reshape(-1, 28, 28, 1)\n",
    "\n",
    "\n",
    "split_idx = int(len(images) * 0.8)\n",
    "x_train, x_val = images[:split_idx], images[split_idx:]"
   ]
  },
  {
   "cell_type": "code",
   "execution_count": null,
   "id": "a0ea9100",
   "metadata": {},
   "outputs": [],
   "source": [
    "import tensorflow as tf"
   ]
  },
  {
   "cell_type": "code",
   "execution_count": null,
   "id": "213b98a6",
   "metadata": {},
   "outputs": [],
   "source": [
    "import tensorflow as tf\n",
    "import numpy as np\n",
    "\n",
    "# Define the PSNR metric\n",
    "def psnr(y_true, y_pred):\n",
    "    # Calculate the maximum pixel value\n",
    "    max_pixel = 255.0\n",
    "    # Calculate the mean squared error between the true and predicted images\n",
    "    mse = tf.reduce_mean(tf.square(y_true - y_pred))\n",
    "    # Calculate the PSNR using the formula\n",
    "    psnr = 20 * tf.math.log(max_pixel / tf.math.sqrt(mse)) / tf.math.log(10.0)\n",
    "    return psnr\n",
    "\n",
    "# Load the testing dataset\n",
    "#x_test = np.load(\"x_test.npy\")\n",
    "\n",
    "# Load the trained autoencoder model\n",
    "autoencoder = tf.keras.models.load_model(\"autoencoder.h5\")\n",
    "\n",
    "# Generate reconstructed images using the autoencoder model\n",
    "reconstructed_images = autoencoder.predict(x_test)\n",
    "\n",
    "# Calculate the PSNR for each reconstructed image\n",
    "psnrs = []\n",
    "for i in range(len(x_test)):\n",
    "    psnrs.append(psnr(x_test[i], reconstructed_images[i]).numpy())\n",
    "\n",
    "# Calculate the average PSNR\n",
    "average_psnr = np.mean(psnrs)\n",
    "\n",
    "print(\"Average PSNR: \", average_psnr)\n"
   ]
  }
 ],
 "metadata": {
  "kernelspec": {
   "display_name": "Python 3 (ipykernel)",
   "language": "python",
   "name": "python3"
  },
  "language_info": {
   "codemirror_mode": {
    "name": "ipython",
    "version": 3
   },
   "file_extension": ".py",
   "mimetype": "text/x-python",
   "name": "python",
   "nbconvert_exporter": "python",
   "pygments_lexer": "ipython3",
   "version": "3.9.7"
  }
 },
 "nbformat": 4,
 "nbformat_minor": 5
}
